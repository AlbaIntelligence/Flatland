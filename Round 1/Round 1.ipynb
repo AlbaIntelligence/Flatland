{
 "cells": [
  {
   "cell_type": "code",
   "execution_count": 1,
   "metadata": {},
   "outputs": [],
   "source": [
    "import numpy as np\n",
    "import time\n",
    "from flatland.envs.rail_generators import complex_rail_generator\n",
    "from flatland.envs.schedule_generators import complex_schedule_generator\n",
    "from flatland.envs.rail_env import RailEnv\n",
    "from flatland.utils.rendertools import RenderTool\n",
    "from flatland.envs.observations import GlobalObsForRailEnv\n",
    "from flatland.envs.observations import TreeObsForRailEnv\n",
    "from flatland.envs.rail_generators import complex_rail_generator\n",
    "from flatland.envs.schedule_generators import complex_schedule_generator\n",
    "from flatland.envs.rail_env import RailEnv\n",
    "from flatland.envs.rail_env import GridTransitionMap\n"
   ]
  },
  {
   "cell_type": "code",
   "execution_count": 2,
   "metadata": {},
   "outputs": [],
   "source": [
    "NUMBER_OF_AGENTS = 10\n",
    "\n",
    "nr_start_goal = 10\n",
    "nr_extra = 2\n",
    "min_dist = 8\n",
    "max_dist = 99999\n",
    "# seed = 0\n",
    "seed = np.random.randint(0,1000)"
   ]
  },
  {
   "cell_type": "code",
   "execution_count": 3,
   "metadata": {},
   "outputs": [],
   "source": [
    "my_rail_generator = complex_rail_generator (\n",
    "        nr_start_goal,\n",
    "        nr_extra,\n",
    "        min_dist,\n",
    "        max_dist,\n",
    "        seed\n",
    "    )\n",
    "\n",
    "env = RailEnv(\n",
    "    \n",
    "    # parameters taht control the dimensions of the map.\n",
    "    width = 10,\n",
    "    height = 10,\n",
    "    \n",
    "    # Rail generator: generates new rail networks on each reset\n",
    "    # simplest rail generators: \n",
    "    #         envs.rail_generators.rail_from_manual_specifications_generator and \n",
    "    #         envs.rail_generators.random_rail_generator.\n",
    "    \n",
    "    rail_generator = my_rail_generator,\n",
    "    schedule_generator = complex_schedule_generator(),\n",
    "    obs_builder_object= GlobalObsForRailEnv(),\n",
    "    number_of_agents = NUMBER_OF_AGENTS\n",
    ")\n"
   ]
  },
  {
   "cell_type": "code",
   "execution_count": 4,
   "metadata": {},
   "outputs": [],
   "source": [
    "# The original railway map from the complex_rail_generator\n",
    "original_rail_map = env.rail.grid.copy()\n",
    "\n",
    "\n"
   ]
  },
  {
   "cell_type": "code",
   "execution_count": null,
   "metadata": {},
   "outputs": [],
   "source": [
    "# straightward implementation, could be optimized\n",
    "# The node id is in the form (x,y), could be a linear mapping from \n",
    "# the most leftupper cornner to the most rightlower corner\n",
    "\n",
    "# Flatland map encoding scheme, NESW -> N:[NESW], E:[NESW], S[NESW], W[NESW]\n",
    "# Deadend cell is different, agent faces the opposite to the direction that it can goes. \n",
    "\n",
    "\n",
    "class decode_map:\n",
    "    \n",
    "    \n",
    "    def __init__(self,original_map):\n",
    "        self.original_map = original_map\n",
    "        self.converted_input = {}\n",
    "\n",
    "    # Determine next nodes for current_node.\n",
    "    def case_matching(self, current_node, short_bits):\n",
    "        \n",
    "        next_nodes = []\n",
    "        \n",
    "        if (int(short_bits[0]) == 1):\n",
    "            \n",
    "            next_node = (current_node[0]-1, current_node[1])\n",
    "#             print(\"N\", next_node)\n",
    "            \n",
    "            next_nodes.append(next_node)\n",
    "        \n",
    "        if(int(short_bits[1]) == 1):\n",
    "            \n",
    "            next_node = (current_node[0], current_node[1]+1)\n",
    "#             print(\"E\", next_node)\n",
    "            \n",
    "            next_nodes.append(next_node)\n",
    "\n",
    "        \n",
    "        if(int(short_bits[2]) == 1):\n",
    "            \n",
    "            next_node = (current_node[0]+1, current_node[1])\n",
    "#             print(\"S\", next_node)\n",
    "            \n",
    "            next_nodes.append(next_node)\n",
    "\n",
    "        if(int(short_bits[3]) == 1):\n",
    "            \n",
    "            next_node = (current_node[0], current_node[1]-1)\n",
    "#             print(\"W\", next_node)\n",
    "            \n",
    "            next_nodes.append(next_node)\n",
    "        \n",
    "        return next_nodes\n",
    "        \n",
    "    # First find the possible previous nodes, and call another function to find the possible next nodes.\n",
    "    def slice_16_bits(self, current_node, bits):\n",
    "        \n",
    "        previous_nodes = {}\n",
    "        \n",
    "        # Facing North\n",
    "        \n",
    "        if (bits[0:4] != \"0000\"):\n",
    "            \n",
    "#             print(bits[0:4])\n",
    "            next_nodes = self.case_matching(current_node, bits[0:4])\n",
    "#             print(\"N, and returned next nodes\", next_nodes)\n",
    "            \n",
    "            # add one previous node, and what nodes the agent can go from current node.\n",
    "            previous_nodes[(current_node[0]+1,current_node[1])] = next_nodes\n",
    "            \n",
    "#             print(\"N, and current previous nodes\", previous_nodes)\n",
    "            \n",
    "        # East\n",
    "        if (bits[4:8] != \"0000\"):\n",
    "\n",
    "#             print(bits[4:8])\n",
    "            next_nodes = self.case_matching(current_node, bits[4:8])\n",
    "#             print(\"E\",next_nodes)\n",
    "            \n",
    "            previous_nodes[(current_node[0], current_node[1]-1)] = next_nodes\n",
    "            \n",
    "#             print(\"E, and current previous nodes\", previous_nodes)\n",
    "# \n",
    "\n",
    "        # South\n",
    "        if (bits[8:12] != \"0000\"):\n",
    "            \n",
    "#             print(bits[8:12])\n",
    "            next_nodes = self.case_matching(current_node, bits[8:12])\n",
    "#             print(\"S\",next_nodes)\n",
    "            \n",
    "            previous_nodes[(current_node[0]-1, current_node[1])] = next_nodes\n",
    "            \n",
    "#             print(\"S, and current previous nodes\", previous_nodes)\n",
    "       \n",
    "        # West\n",
    "        if (bits[12:16] != \"0000\"):\n",
    "            \n",
    "#             print(bits[12:16])\n",
    "            next_nodes = self.case_matching(current_node, bits[12:16])\n",
    "#             print(\"W\",next_nodes)\n",
    "            \n",
    "            previous_nodes[(current_node[0], current_node[1]+1)] = next_nodes\n",
    "            \n",
    "#             print(\"W, and current previous nodes\", previous_nodes)\n",
    "\n",
    "        return previous_nodes\n",
    "            \n",
    "    def convert_ori_rail_map(self):\n",
    "        for row in range(0,len(self.original_map)):\n",
    "            for col in range(0,len(self.original_map[row])):\n",
    "                \n",
    "                # Current node: (row,col)\n",
    "                print(\"Current node:\", (row,col))\n",
    "                current_node = (row,col)\n",
    "                # Get previous node, decided by which direction the agent is facing.\n",
    "                # EXCEPT the deadend nodes.\n",
    "                \n",
    "                \n",
    "#                 print('{0:016b}'.format(self.original_map[row][col]))\n",
    "                previous_next_nodes = self.slice_16_bits(current_node, '{0:016b}'.format(self.original_map[row][col]))\n",
    "#                 print(previous_next_nodes.items())\n",
    "                \n",
    "                for previous,direction in previous_next_nodes.items():\n",
    "#                     print(\"direction\", direction)\n",
    "\n",
    "                    self.converted_input[(current_node, previous)] = direction\n",
    "#         print(self.converted_input)\n",
    "        return self.converted_input"
   ]
  },
  {
   "cell_type": "code",
   "execution_count": null,
   "metadata": {
    "scrolled": true
   },
   "outputs": [],
   "source": [
    "result = decode_map(original_rail_map).convert_ori_rail_map()"
   ]
  },
  {
   "cell_type": "code",
   "execution_count": null,
   "metadata": {
    "scrolled": false
   },
   "outputs": [],
   "source": [
    "# pretty print result\n",
    "\n",
    "for i in result.items():\n",
    "    print(i,\"\\n\")"
   ]
  },
  {
   "cell_type": "code",
   "execution_count": 20,
   "metadata": {},
   "outputs": [
    {
     "name": "stdout",
     "output_type": "stream",
     "text": [
      "0 EnvAgent(position=(3, 1), direction=3, target=(5, 9), moving=False, speed_data={'position_fraction': 0.0, 'speed': 1.0, 'transition_action_on_cellexit': 0}, malfunction_data={'malfunction': 0, 'malfunction_rate': 0.0, 'next_malfunction': 0, 'nr_malfunctions': 0}, handle=0, old_direction=None, old_position=None)\n",
      "1 EnvAgent(position=(1, 5), direction=3, target=(7, 9), moving=False, speed_data={'position_fraction': 0.0, 'speed': 1.0, 'transition_action_on_cellexit': 0}, malfunction_data={'malfunction': 0, 'malfunction_rate': 0.0, 'next_malfunction': 0, 'nr_malfunctions': 0}, handle=1, old_direction=None, old_position=None)\n",
      "2 EnvAgent(position=(7, 6), direction=1, target=(5, 0), moving=False, speed_data={'position_fraction': 0.0, 'speed': 1.0, 'transition_action_on_cellexit': 0}, malfunction_data={'malfunction': 0, 'malfunction_rate': 0.0, 'next_malfunction': 0, 'nr_malfunctions': 0}, handle=2, old_direction=None, old_position=None)\n",
      "3 EnvAgent(position=(7, 2), direction=3, target=(3, 9), moving=False, speed_data={'position_fraction': 0.0, 'speed': 1.0, 'transition_action_on_cellexit': 0}, malfunction_data={'malfunction': 0, 'malfunction_rate': 0.0, 'next_malfunction': 0, 'nr_malfunctions': 0}, handle=3, old_direction=None, old_position=None)\n",
      "4 EnvAgent(position=(9, 4), direction=1, target=(1, 2), moving=False, speed_data={'position_fraction': 0.0, 'speed': 1.0, 'transition_action_on_cellexit': 0}, malfunction_data={'malfunction': 0, 'malfunction_rate': 0.0, 'next_malfunction': 0, 'nr_malfunctions': 0}, handle=4, old_direction=None, old_position=None)\n",
      "5 EnvAgent(position=(8, 0), direction=3, target=(0, 8), moving=False, speed_data={'position_fraction': 0.0, 'speed': 1.0, 'transition_action_on_cellexit': 0}, malfunction_data={'malfunction': 0, 'malfunction_rate': 0.0, 'next_malfunction': 0, 'nr_malfunctions': 0}, handle=5, old_direction=None, old_position=None)\n",
      "6 EnvAgent(position=(9, 6), direction=1, target=(3, 4), moving=False, speed_data={'position_fraction': 0.0, 'speed': 1.0, 'transition_action_on_cellexit': 0}, malfunction_data={'malfunction': 0, 'malfunction_rate': 0.0, 'next_malfunction': 0, 'nr_malfunctions': 0}, handle=6, old_direction=None, old_position=None)\n",
      "7 EnvAgent(position=(5, 3), direction=3, target=(9, 9), moving=False, speed_data={'position_fraction': 0.0, 'speed': 1.0, 'transition_action_on_cellexit': 0}, malfunction_data={'malfunction': 0, 'malfunction_rate': 0.0, 'next_malfunction': 0, 'nr_malfunctions': 0}, handle=7, old_direction=None, old_position=None)\n",
      "8 EnvAgent(position=(1, 0), direction=0, target=(9, 2), moving=False, speed_data={'position_fraction': 0.0, 'speed': 1.0, 'transition_action_on_cellexit': 0}, malfunction_data={'malfunction': 0, 'malfunction_rate': 0.0, 'next_malfunction': 0, 'nr_malfunctions': 0}, handle=8, old_direction=None, old_position=None)\n",
      "9 EnvAgent(position=(5, 7), direction=2, target=(0, 3), moving=False, speed_data={'position_fraction': 0.0, 'speed': 1.0, 'transition_action_on_cellexit': 0}, malfunction_data={'malfunction': 0, 'malfunction_rate': 0.0, 'next_malfunction': 0, 'nr_malfunctions': 0}, handle=9, old_direction=None, old_position=None)\n"
     ]
    }
   ],
   "source": [
    "# Obtain the start and target locations\n",
    "# Assuming that each agent is going from one assigned start location to one fixed target location.\n",
    "# i.e. no multiple targets available for one agent to go to.\n",
    "\n",
    "# can be access by env.agents (lists of agents objects with their own information)\n",
    "'''\n",
    "informaiton include: poistion (i.e. start location at time step 0), \n",
    "                     direction,\n",
    "                     target,\n",
    "                     speed_data,\n",
    "                     malfunction_data,\n",
    "                     handle,\n",
    "                     old_direction,\n",
    "                     old_position     \n",
    "'''\n",
    "\n",
    "agent_info = {}\n",
    "\n",
    "for index, agent in enumerate(env.agents):\n",
    "    print(index, agent)\n",
    "   "
   ]
  },
  {
   "cell_type": "code",
   "execution_count": 6,
   "metadata": {},
   "outputs": [
    {
     "name": "stderr",
     "output_type": "stream",
     "text": [
      "C:\\Users\\yizh9\\Anaconda3\\envs\\flatland-rl\\lib\\site-packages\\flatland\\utils\\rendertools.py:289: UserWarning: Predictor did not provide any predicted cells to render.                 Observation builder needs to populate: env.dev_obs_dict\n",
      "  Observation builder needs to populate: env.dev_obs_dict\")\n"
     ]
    }
   ],
   "source": [
    "# tool to render environments\n",
    "# env_renderer = RenderTool(env, gl=\"PIL\")\n",
    "env_renderer = RenderTool(env)\n",
    "\n",
    "# env_renderer = RenderTool (env)\n",
    "env_renderer.render_env(show=True)\n"
   ]
  },
  {
   "cell_type": "code",
   "execution_count": null,
   "metadata": {},
   "outputs": [],
   "source": [
    "'{0:016b}'.format(33825)"
   ]
  },
  {
   "cell_type": "code",
   "execution_count": null,
   "metadata": {},
   "outputs": [],
   "source": []
  }
 ],
 "metadata": {
  "kernelspec": {
   "display_name": "Python 3",
   "language": "python",
   "name": "python3"
  },
  "language_info": {
   "codemirror_mode": {
    "name": "ipython",
    "version": 3
   },
   "file_extension": ".py",
   "mimetype": "text/x-python",
   "name": "python",
   "nbconvert_exporter": "python",
   "pygments_lexer": "ipython3",
   "version": "3.6.9"
  }
 },
 "nbformat": 4,
 "nbformat_minor": 2
}
