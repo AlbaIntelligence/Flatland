{
 "cells": [
  {
   "cell_type": "code",
   "execution_count": 1,
   "metadata": {},
   "outputs": [],
   "source": [
    "import numpy as np\n",
    "import time\n",
    "from flatland.envs.rail_generators import complex_rail_generator\n",
    "from flatland.envs.schedule_generators import complex_schedule_generator\n",
    "from flatland.envs.rail_env import RailEnv\n",
    "from flatland.utils.rendertools import RenderTool\n",
    "\n",
    "from tkinter import *\n"
   ]
  },
  {
   "cell_type": "code",
   "execution_count": 2,
   "metadata": {},
   "outputs": [],
   "source": [
    "NUMBER_OF_AGENTS = 10 "
   ]
  },
  {
   "cell_type": "code",
   "execution_count": 3,
   "metadata": {},
   "outputs": [],
   "source": [
    "env = RailEnv(\n",
    "    width = 20,\n",
    "    height = 20,\n",
    "    rail_generator = complex_rail_generator (\n",
    "        nr_start_goal = 10,\n",
    "        nr_extra = 1,\n",
    "        min_dist = 8,\n",
    "        max_dist = 99999,\n",
    "        seed = 0\n",
    "    ),\n",
    "    schedule_generator = complex_schedule_generator(),\n",
    "    number_of_agents = NUMBER_OF_AGENTS\n",
    ")\n",
    "\n"
   ]
  },
  {
   "cell_type": "code",
   "execution_count": 4,
   "metadata": {},
   "outputs": [],
   "source": [
    "env_renderer = RenderTool (env)"
   ]
  },
  {
   "cell_type": "code",
   "execution_count": 5,
   "metadata": {},
   "outputs": [
    {
     "name": "stdout",
     "output_type": "stream",
     "text": [
      "Rewards: {0: -1.0, 1: -1.0, 2: -1.0, 3: -1.0, 4: -1.0, 5: -1.0, 6: -1.0, 7: -1.0, 8: -1.0, 9: -1.0}, [done={0: False, 1: False, 2: False, 3: False, 4: False, 5: False, 6: False, 7: False, 8: False, 9: False, '__all__': False}]\n",
      "Rewards: {0: -1.0, 1: -1.0, 2: -1.0, 3: -1.0, 4: -1.0, 5: -1.0, 6: -1.0, 7: -1.0, 8: -1.0, 9: -1.0}, [done={0: False, 1: False, 2: False, 3: False, 4: False, 5: False, 6: False, 7: False, 8: False, 9: False, '__all__': False}]\n",
      "Rewards: {0: -1.0, 1: -1.0, 2: -1.0, 3: -1.0, 4: -1.0, 5: -1.0, 6: -1.0, 7: -1.0, 8: -1.0, 9: -1.0}, [done={0: False, 1: False, 2: False, 3: False, 4: False, 5: False, 6: False, 7: False, 8: False, 9: False, '__all__': False}]\n",
      "Rewards: {0: -1.0, 1: -1.0, 2: -1.0, 3: -1.0, 4: -1.0, 5: -1.0, 6: -1.0, 7: -1.0, 8: -1.0, 9: -1.0}, [done={0: False, 1: False, 2: False, 3: False, 4: False, 5: False, 6: False, 7: False, 8: False, 9: False, '__all__': False}]\n",
      "Rewards: {0: -1.0, 1: -1.0, 2: -1.0, 3: -1.0, 4: -1.0, 5: -1.0, 6: -1.0, 7: -1.0, 8: -1.0, 9: -1.0}, [done={0: False, 1: False, 2: False, 3: False, 4: False, 5: False, 6: False, 7: False, 8: False, 9: False, '__all__': False}]\n",
      "Rewards: {0: -1.0, 1: -1.0, 2: -1.0, 3: -1.0, 4: -1.0, 5: -1.0, 6: -1.0, 7: -1.0, 8: -1.0, 9: -1.0}, [done={0: False, 1: False, 2: False, 3: False, 4: False, 5: False, 6: False, 7: False, 8: False, 9: False, '__all__': False}]\n",
      "Rewards: {0: -1.0, 1: -1.0, 2: -1.0, 3: -1.0, 4: -1.0, 5: -1.0, 6: -1.0, 7: -1.0, 8: -1.0, 9: -1.0}, [done={0: False, 1: False, 2: False, 3: False, 4: False, 5: False, 6: False, 7: False, 8: False, 9: False, '__all__': False}]\n",
      "Rewards: {0: -1.0, 1: -1.0, 2: -1.0, 3: -1.0, 4: -1.0, 5: -1.0, 6: -1.0, 7: -1.0, 8: -1.0, 9: -1.0}, [done={0: False, 1: False, 2: False, 3: False, 4: False, 5: False, 6: False, 7: False, 8: False, 9: False, '__all__': False}]\n",
      "Rewards: {0: -1.0, 1: -1.0, 2: -1.0, 3: -1.0, 4: -1.0, 5: -1.0, 6: -1.0, 7: -1.0, 8: -1.0, 9: -1.0}, [done={0: False, 1: False, 2: False, 3: False, 4: False, 5: False, 6: False, 7: False, 8: False, 9: False, '__all__': False}]\n",
      "Rewards: {0: -1.0, 1: -1.0, 2: -1.0, 3: -1.0, 4: -1.0, 5: -1.0, 6: -1.0, 7: -1.0, 8: -1.0, 9: -1.0}, [done={0: False, 1: False, 2: False, 3: False, 4: False, 5: False, 6: False, 7: False, 8: False, 9: False, '__all__': False}]\n",
      "Rewards: {0: -1.0, 1: -1.0, 2: -1.0, 3: -1.0, 4: -1.0, 5: -1.0, 6: -1.0, 7: -1.0, 8: -1.0, 9: -1.0}, [done={0: False, 1: False, 2: False, 3: False, 4: False, 5: False, 6: False, 7: False, 8: False, 9: False, '__all__': False}]\n",
      "Rewards: {0: -1.0, 1: -1.0, 2: -1.0, 3: -1.0, 4: -1.0, 5: -1.0, 6: -1.0, 7: -1.0, 8: -1.0, 9: -1.0}, [done={0: False, 1: False, 2: False, 3: False, 4: False, 5: False, 6: False, 7: False, 8: False, 9: False, '__all__': False}]\n",
      "Rewards: {0: -1.0, 1: -1.0, 2: -1.0, 3: -1.0, 4: -1.0, 5: -1.0, 6: -1.0, 7: -1.0, 8: -1.0, 9: -1.0}, [done={0: False, 1: False, 2: False, 3: False, 4: False, 5: False, 6: False, 7: False, 8: False, 9: False, '__all__': False}]\n",
      "Rewards: {0: -1.0, 1: -1.0, 2: -1.0, 3: -1.0, 4: -1.0, 5: -1.0, 6: -1.0, 7: -1.0, 8: -1.0, 9: -2.0}, [done={0: False, 1: False, 2: False, 3: False, 4: False, 5: False, 6: False, 7: False, 8: False, 9: False, '__all__': False}]\n",
      "Rewards: {0: -1.0, 1: -1.0, 2: -1.0, 3: -1.0, 4: -1.0, 5: 0, 6: -1.0, 7: -1.0, 8: -1.0, 9: -1.0}, [done={0: False, 1: False, 2: False, 3: False, 4: False, 5: True, 6: False, 7: False, 8: False, 9: False, '__all__': False}]\n",
      "Rewards: {0: -1.0, 1: -1.0, 2: -1.0, 3: -1.0, 4: -1.0, 5: 0, 6: -1.0, 7: -1.0, 8: -1.0, 9: -1.0}, [done={0: False, 1: False, 2: False, 3: False, 4: False, 5: True, 6: False, 7: False, 8: False, 9: False, '__all__': False}]\n",
      "Rewards: {0: -1.0, 1: -1.0, 2: -1.0, 3: -1.0, 4: -1.0, 5: 0, 6: -1.0, 7: -1.0, 8: -1.0, 9: -1.0}, [done={0: False, 1: False, 2: False, 3: False, 4: False, 5: True, 6: False, 7: False, 8: False, 9: False, '__all__': False}]\n",
      "Rewards: {0: -1.0, 1: -1.0, 2: -1.0, 3: -1.0, 4: -1.0, 5: 0, 6: -1.0, 7: -1.0, 8: -1.0, 9: -1.0}, [done={0: False, 1: False, 2: False, 3: False, 4: False, 5: True, 6: False, 7: False, 8: False, 9: False, '__all__': False}]\n",
      "Rewards: {0: -1.0, 1: -1.0, 2: -1.0, 3: -1.0, 4: -1.0, 5: 0, 6: -1.0, 7: -1.0, 8: -1.0, 9: -1.0}, [done={0: False, 1: False, 2: False, 3: False, 4: False, 5: True, 6: False, 7: False, 8: False, 9: False, '__all__': False}]\n",
      "Rewards: {0: -1.0, 1: -1.0, 2: -1.0, 3: -1.0, 4: -1.0, 5: 0, 6: -1.0, 7: -1.0, 8: -1.0, 9: -1.0}, [done={0: False, 1: False, 2: False, 3: False, 4: False, 5: True, 6: False, 7: False, 8: False, 9: False, '__all__': False}]\n",
      "Rewards: {0: -1.0, 1: -1.0, 2: -1.0, 3: -1.0, 4: -1.0, 5: 0, 6: -1.0, 7: -1.0, 8: -1.0, 9: -1.0}, [done={0: False, 1: False, 2: False, 3: False, 4: False, 5: True, 6: False, 7: False, 8: False, 9: False, '__all__': False}]\n",
      "Rewards: {0: -1.0, 1: -1.0, 2: -1.0, 3: -1.0, 4: -1.0, 5: 0, 6: -1.0, 7: -1.0, 8: -1.0, 9: -1.0}, [done={0: False, 1: False, 2: False, 3: False, 4: False, 5: True, 6: False, 7: False, 8: False, 9: False, '__all__': False}]\n",
      "Rewards: {0: -1.0, 1: -1.0, 2: -1.0, 3: -1.0, 4: -1.0, 5: 0, 6: -1.0, 7: -1.0, 8: -1.0, 9: -1.0}, [done={0: False, 1: False, 2: False, 3: False, 4: False, 5: True, 6: False, 7: False, 8: False, 9: False, '__all__': False}]\n",
      "Rewards: {0: -1.0, 1: -1.0, 2: -1.0, 3: -1.0, 4: -1.0, 5: 0, 6: -1.0, 7: -1.0, 8: -1.0, 9: -1.0}, [done={0: False, 1: False, 2: False, 3: False, 4: False, 5: True, 6: False, 7: False, 8: False, 9: False, '__all__': False}]\n",
      "Rewards: {0: -1.0, 1: -1.0, 2: -1.0, 3: -1.0, 4: -1.0, 5: 0, 6: -1.0, 7: -1.0, 8: -1.0, 9: -1.0}, [done={0: False, 1: False, 2: False, 3: False, 4: False, 5: True, 6: False, 7: False, 8: False, 9: False, '__all__': False}]\n",
      "Rewards: {0: -1.0, 1: -1.0, 2: -1.0, 3: -1.0, 4: -1.0, 5: 0, 6: -1.0, 7: -1.0, 8: -1.0, 9: -1.0}, [done={0: False, 1: False, 2: False, 3: False, 4: False, 5: True, 6: False, 7: False, 8: False, 9: False, '__all__': False}]\n",
      "Rewards: {0: -1.0, 1: -1.0, 2: -1.0, 3: -1.0, 4: -1.0, 5: 0, 6: -1.0, 7: -1.0, 8: -1.0, 9: -1.0}, [done={0: False, 1: False, 2: False, 3: False, 4: False, 5: True, 6: False, 7: False, 8: False, 9: False, '__all__': False}]\n",
      "Rewards: {0: -1.0, 1: -1.0, 2: -1.0, 3: -1.0, 4: -1.0, 5: 0, 6: -1.0, 7: -1.0, 8: -1.0, 9: -1.0}, [done={0: False, 1: False, 2: False, 3: False, 4: False, 5: True, 6: False, 7: False, 8: False, 9: False, '__all__': False}]\n",
      "Rewards: {0: -1.0, 1: -1.0, 2: -1.0, 3: -1.0, 4: -1.0, 5: 0, 6: -1.0, 7: -1.0, 8: -1.0, 9: -1.0}, [done={0: False, 1: False, 2: False, 3: False, 4: False, 5: True, 6: False, 7: False, 8: False, 9: False, '__all__': False}]\n",
      "Rewards: {0: -1.0, 1: -1.0, 2: -1.0, 3: -1.0, 4: -1.0, 5: 0, 6: -1.0, 7: -1.0, 8: -1.0, 9: -1.0}, [done={0: False, 1: False, 2: False, 3: False, 4: False, 5: True, 6: False, 7: False, 8: False, 9: False, '__all__': False}]\n",
      "Rewards: {0: -1.0, 1: -1.0, 2: -1.0, 3: -1.0, 4: -1.0, 5: 0, 6: -1.0, 7: -1.0, 8: -1.0, 9: -1.0}, [done={0: False, 1: False, 2: False, 3: False, 4: False, 5: True, 6: False, 7: False, 8: False, 9: False, '__all__': False}]\n",
      "Rewards: {0: -1.0, 1: -1.0, 2: -1.0, 3: -1.0, 4: -1.0, 5: 0, 6: -1.0, 7: -1.0, 8: -1.0, 9: -1.0}, [done={0: False, 1: False, 2: False, 3: False, 4: False, 5: True, 6: False, 7: False, 8: False, 9: False, '__all__': False}]\n",
      "Rewards: {0: -1.0, 1: -1.0, 2: -1.0, 3: -1.0, 4: -1.0, 5: 0, 6: -1.0, 7: -1.0, 8: -1.0, 9: -1.0}, [done={0: False, 1: False, 2: False, 3: False, 4: False, 5: True, 6: False, 7: False, 8: False, 9: False, '__all__': False}]\n",
      "Rewards: {0: -1.0, 1: -1.0, 2: -1.0, 3: -1.0, 4: -1.0, 5: 0, 6: -1.0, 7: -1.0, 8: -1.0, 9: -1.0}, [done={0: False, 1: False, 2: False, 3: False, 4: False, 5: True, 6: False, 7: False, 8: False, 9: False, '__all__': False}]\n",
      "Rewards: {0: -1.0, 1: -1.0, 2: -1.0, 3: -1.0, 4: -1.0, 5: 0, 6: -1.0, 7: -1.0, 8: -1.0, 9: -1.0}, [done={0: False, 1: False, 2: False, 3: False, 4: False, 5: True, 6: False, 7: False, 8: False, 9: False, '__all__': False}]\n",
      "Rewards: {0: -1.0, 1: -1.0, 2: -1.0, 3: -1.0, 4: -1.0, 5: 0, 6: -1.0, 7: -1.0, 8: -1.0, 9: -1.0}, [done={0: False, 1: False, 2: False, 3: False, 4: False, 5: True, 6: False, 7: False, 8: False, 9: False, '__all__': False}]\n",
      "Rewards: {0: -1.0, 1: -1.0, 2: -1.0, 3: -1.0, 4: -1.0, 5: 0, 6: -1.0, 7: -1.0, 8: -1.0, 9: -1.0}, [done={0: False, 1: False, 2: False, 3: False, 4: False, 5: True, 6: False, 7: False, 8: False, 9: False, '__all__': False}]\n"
     ]
    },
    {
     "name": "stdout",
     "output_type": "stream",
     "text": [
      "Rewards: {0: -1.0, 1: -1.0, 2: -1.0, 3: -1.0, 4: -1.0, 5: 0, 6: -1.0, 7: -1.0, 8: -1.0, 9: -1.0}, [done={0: False, 1: False, 2: False, 3: False, 4: False, 5: True, 6: False, 7: False, 8: False, 9: False, '__all__': False}]\n",
      "Rewards: {0: -1.0, 1: -1.0, 2: -1.0, 3: -1.0, 4: -1.0, 5: 0, 6: -1.0, 7: -1.0, 8: -1.0, 9: -1.0}, [done={0: False, 1: False, 2: False, 3: False, 4: False, 5: True, 6: False, 7: False, 8: False, 9: False, '__all__': False}]\n",
      "Rewards: {0: -1.0, 1: -1.0, 2: -1.0, 3: -1.0, 4: -1.0, 5: 0, 6: -1.0, 7: -1.0, 8: -1.0, 9: -1.0}, [done={0: False, 1: False, 2: False, 3: False, 4: False, 5: True, 6: False, 7: False, 8: False, 9: False, '__all__': False}]\n",
      "Rewards: {0: -1.0, 1: -1.0, 2: -1.0, 3: -1.0, 4: -1.0, 5: 0, 6: -1.0, 7: -1.0, 8: -1.0, 9: -1.0}, [done={0: False, 1: False, 2: False, 3: False, 4: False, 5: True, 6: False, 7: False, 8: False, 9: False, '__all__': False}]\n",
      "Rewards: {0: -1.0, 1: -1.0, 2: -1.0, 3: -1.0, 4: -1.0, 5: 0, 6: -1.0, 7: -1.0, 8: -1.0, 9: -1.0}, [done={0: False, 1: False, 2: False, 3: False, 4: False, 5: True, 6: False, 7: False, 8: False, 9: False, '__all__': False}]\n",
      "Rewards: {0: -1.0, 1: -1.0, 2: -1.0, 3: -1.0, 4: -1.0, 5: 0, 6: -1.0, 7: -1.0, 8: -1.0, 9: -1.0}, [done={0: False, 1: False, 2: False, 3: False, 4: False, 5: True, 6: False, 7: False, 8: False, 9: False, '__all__': False}]\n",
      "Rewards: {0: -1.0, 1: -1.0, 2: -1.0, 3: -1.0, 4: -1.0, 5: 0, 6: -1.0, 7: -1.0, 8: -1.0, 9: -1.0}, [done={0: False, 1: False, 2: False, 3: False, 4: False, 5: True, 6: False, 7: False, 8: False, 9: False, '__all__': False}]\n"
     ]
    },
    {
     "ename": "RuntimeError",
     "evalue": "Too early to create image",
     "output_type": "error",
     "traceback": [
      "\u001b[1;31m---------------------------------------------------------------------------\u001b[0m",
      "\u001b[1;31mRuntimeError\u001b[0m                              Traceback (most recent call last)",
      "\u001b[1;32m<ipython-input-5-375e2d2957f3>\u001b[0m in \u001b[0;36m<module>\u001b[1;34m\u001b[0m\n\u001b[0;32m     13\u001b[0m     \u001b[0mobs\u001b[0m\u001b[1;33m,\u001b[0m \u001b[0mall_rewards\u001b[0m\u001b[1;33m,\u001b[0m \u001b[0mdone\u001b[0m\u001b[1;33m,\u001b[0m \u001b[0m_\u001b[0m \u001b[1;33m=\u001b[0m \u001b[0menv\u001b[0m\u001b[1;33m.\u001b[0m\u001b[0mstep\u001b[0m\u001b[1;33m(\u001b[0m\u001b[0m_action\u001b[0m\u001b[1;33m)\u001b[0m\u001b[1;33m\u001b[0m\u001b[1;33m\u001b[0m\u001b[0m\n\u001b[0;32m     14\u001b[0m     \u001b[0mprint\u001b[0m\u001b[1;33m(\u001b[0m\u001b[1;34m\"Rewards: {}, [done={}]\"\u001b[0m\u001b[1;33m.\u001b[0m\u001b[0mformat\u001b[0m\u001b[1;33m(\u001b[0m \u001b[0mall_rewards\u001b[0m\u001b[1;33m,\u001b[0m \u001b[0mdone\u001b[0m\u001b[1;33m)\u001b[0m\u001b[1;33m)\u001b[0m\u001b[1;33m\u001b[0m\u001b[1;33m\u001b[0m\u001b[0m\n\u001b[1;32m---> 15\u001b[1;33m     \u001b[0menv_renderer\u001b[0m\u001b[1;33m.\u001b[0m\u001b[0mrender_env\u001b[0m\u001b[1;33m(\u001b[0m\u001b[0mshow\u001b[0m\u001b[1;33m=\u001b[0m\u001b[1;32mTrue\u001b[0m\u001b[1;33m,\u001b[0m \u001b[0mframes\u001b[0m\u001b[1;33m=\u001b[0m\u001b[1;32mFalse\u001b[0m\u001b[1;33m,\u001b[0m \u001b[0mshow_observations\u001b[0m\u001b[1;33m=\u001b[0m\u001b[1;32mFalse\u001b[0m\u001b[1;33m)\u001b[0m\u001b[1;33m\u001b[0m\u001b[1;33m\u001b[0m\u001b[0m\n\u001b[0m\u001b[0;32m     16\u001b[0m     \u001b[0mtime\u001b[0m\u001b[1;33m.\u001b[0m\u001b[0msleep\u001b[0m\u001b[1;33m(\u001b[0m\u001b[1;36m0.3\u001b[0m\u001b[1;33m)\u001b[0m\u001b[1;33m\u001b[0m\u001b[1;33m\u001b[0m\u001b[0m\n",
      "\u001b[1;32m~\\Anaconda3\\envs\\flatland-rl\\lib\\site-packages\\flatland\\utils\\rendertools.py\u001b[0m in \u001b[0;36mrender_env\u001b[1;34m(self, show, agents, show_observations, show_predictions, frames, episode, step, selected_agent)\u001b[0m\n\u001b[0;32m    412\u001b[0m                                 \u001b[0mshow_observations\u001b[0m\u001b[1;33m=\u001b[0m\u001b[0mshow_observations\u001b[0m\u001b[1;33m,\u001b[0m\u001b[1;33m\u001b[0m\u001b[1;33m\u001b[0m\u001b[0m\n\u001b[0;32m    413\u001b[0m                                 \u001b[0mshow_predictions\u001b[0m\u001b[1;33m=\u001b[0m\u001b[0mshow_predictions\u001b[0m\u001b[1;33m,\u001b[0m\u001b[1;33m\u001b[0m\u001b[1;33m\u001b[0m\u001b[0m\n\u001b[1;32m--> 414\u001b[1;33m                                 \u001b[0mselected_agent\u001b[0m\u001b[1;33m=\u001b[0m\u001b[0mselected_agent\u001b[0m\u001b[1;33m\u001b[0m\u001b[1;33m\u001b[0m\u001b[0m\n\u001b[0m\u001b[0;32m    415\u001b[0m                                 )\n\u001b[0;32m    416\u001b[0m         \u001b[1;32melse\u001b[0m\u001b[1;33m:\u001b[0m\u001b[1;33m\u001b[0m\u001b[1;33m\u001b[0m\u001b[0m\n",
      "\u001b[1;32m~\\Anaconda3\\envs\\flatland-rl\\lib\\site-packages\\flatland\\utils\\rendertools.py\u001b[0m in \u001b[0;36mrender_env_svg\u001b[1;34m(self, show, show_observations, show_predictions, selected_agent)\u001b[0m\n\u001b[0;32m    580\u001b[0m             \u001b[0mself\u001b[0m\u001b[1;33m.\u001b[0m\u001b[0mrender_prediction\u001b[0m\u001b[1;33m(\u001b[0m\u001b[0mrange\u001b[0m\u001b[1;33m(\u001b[0m\u001b[0menv\u001b[0m\u001b[1;33m.\u001b[0m\u001b[0mget_num_agents\u001b[0m\u001b[1;33m(\u001b[0m\u001b[1;33m)\u001b[0m\u001b[1;33m)\u001b[0m\u001b[1;33m,\u001b[0m \u001b[0menv\u001b[0m\u001b[1;33m.\u001b[0m\u001b[0mdev_pred_dict\u001b[0m\u001b[1;33m)\u001b[0m\u001b[1;33m\u001b[0m\u001b[1;33m\u001b[0m\u001b[0m\n\u001b[0;32m    581\u001b[0m         \u001b[1;32mif\u001b[0m \u001b[0mshow\u001b[0m\u001b[1;33m:\u001b[0m\u001b[1;33m\u001b[0m\u001b[1;33m\u001b[0m\u001b[0m\n\u001b[1;32m--> 582\u001b[1;33m             \u001b[0mself\u001b[0m\u001b[1;33m.\u001b[0m\u001b[0mgl\u001b[0m\u001b[1;33m.\u001b[0m\u001b[0mshow\u001b[0m\u001b[1;33m(\u001b[0m\u001b[1;33m)\u001b[0m\u001b[1;33m\u001b[0m\u001b[1;33m\u001b[0m\u001b[0m\n\u001b[0m\u001b[0;32m    583\u001b[0m         \u001b[1;32mfor\u001b[0m \u001b[0mi\u001b[0m \u001b[1;32min\u001b[0m \u001b[0mrange\u001b[0m\u001b[1;33m(\u001b[0m\u001b[1;36m3\u001b[0m\u001b[1;33m)\u001b[0m\u001b[1;33m:\u001b[0m\u001b[1;33m\u001b[0m\u001b[1;33m\u001b[0m\u001b[0m\n\u001b[0;32m    584\u001b[0m             \u001b[0mself\u001b[0m\u001b[1;33m.\u001b[0m\u001b[0mgl\u001b[0m\u001b[1;33m.\u001b[0m\u001b[0mprocess_events\u001b[0m\u001b[1;33m(\u001b[0m\u001b[1;33m)\u001b[0m\u001b[1;33m\u001b[0m\u001b[1;33m\u001b[0m\u001b[0m\n",
      "\u001b[1;32m~\\Anaconda3\\envs\\flatland-rl\\lib\\site-packages\\flatland\\utils\\graphics_pil.py\u001b[0m in \u001b[0;36mshow\u001b[1;34m(self, block)\u001b[0m\n\u001b[0;32m    196\u001b[0m             \u001b[0mself\u001b[0m\u001b[1;33m.\u001b[0m\u001b[0mopen_window\u001b[0m\u001b[1;33m(\u001b[0m\u001b[1;33m)\u001b[0m\u001b[1;33m\u001b[0m\u001b[1;33m\u001b[0m\u001b[0m\n\u001b[0;32m    197\u001b[0m \u001b[1;33m\u001b[0m\u001b[0m\n\u001b[1;32m--> 198\u001b[1;33m         \u001b[0mtkimg\u001b[0m \u001b[1;33m=\u001b[0m \u001b[0mImageTk\u001b[0m\u001b[1;33m.\u001b[0m\u001b[0mPhotoImage\u001b[0m\u001b[1;33m(\u001b[0m\u001b[0mimg\u001b[0m\u001b[1;33m)\u001b[0m\u001b[1;33m\u001b[0m\u001b[1;33m\u001b[0m\u001b[0m\n\u001b[0m\u001b[0;32m    199\u001b[0m \u001b[1;33m\u001b[0m\u001b[0m\n\u001b[0;32m    200\u001b[0m         \u001b[1;32mif\u001b[0m \u001b[0mself\u001b[0m\u001b[1;33m.\u001b[0m\u001b[0mfirstFrame\u001b[0m\u001b[1;33m:\u001b[0m\u001b[1;33m\u001b[0m\u001b[1;33m\u001b[0m\u001b[0m\n",
      "\u001b[1;32m~\\Anaconda3\\envs\\flatland-rl\\lib\\site-packages\\PIL\\ImageTk.py\u001b[0m in \u001b[0;36m__init__\u001b[1;34m(self, image, size, **kw)\u001b[0m\n\u001b[0;32m    116\u001b[0m         \u001b[0mself\u001b[0m\u001b[1;33m.\u001b[0m\u001b[0m__mode\u001b[0m \u001b[1;33m=\u001b[0m \u001b[0mmode\u001b[0m\u001b[1;33m\u001b[0m\u001b[1;33m\u001b[0m\u001b[0m\n\u001b[0;32m    117\u001b[0m         \u001b[0mself\u001b[0m\u001b[1;33m.\u001b[0m\u001b[0m__size\u001b[0m \u001b[1;33m=\u001b[0m \u001b[0msize\u001b[0m\u001b[1;33m\u001b[0m\u001b[1;33m\u001b[0m\u001b[0m\n\u001b[1;32m--> 118\u001b[1;33m         \u001b[0mself\u001b[0m\u001b[1;33m.\u001b[0m\u001b[0m__photo\u001b[0m \u001b[1;33m=\u001b[0m \u001b[0mtkinter\u001b[0m\u001b[1;33m.\u001b[0m\u001b[0mPhotoImage\u001b[0m\u001b[1;33m(\u001b[0m\u001b[1;33m**\u001b[0m\u001b[0mkw\u001b[0m\u001b[1;33m)\u001b[0m\u001b[1;33m\u001b[0m\u001b[1;33m\u001b[0m\u001b[0m\n\u001b[0m\u001b[0;32m    119\u001b[0m         \u001b[0mself\u001b[0m\u001b[1;33m.\u001b[0m\u001b[0mtk\u001b[0m \u001b[1;33m=\u001b[0m \u001b[0mself\u001b[0m\u001b[1;33m.\u001b[0m\u001b[0m__photo\u001b[0m\u001b[1;33m.\u001b[0m\u001b[0mtk\u001b[0m\u001b[1;33m\u001b[0m\u001b[1;33m\u001b[0m\u001b[0m\n\u001b[0;32m    120\u001b[0m         \u001b[1;32mif\u001b[0m \u001b[0mimage\u001b[0m\u001b[1;33m:\u001b[0m\u001b[1;33m\u001b[0m\u001b[1;33m\u001b[0m\u001b[0m\n",
      "\u001b[1;32m~\\Anaconda3\\envs\\flatland-rl\\lib\\tkinter\\__init__.py\u001b[0m in \u001b[0;36m__init__\u001b[1;34m(self, name, cnf, master, **kw)\u001b[0m\n\u001b[0;32m   3543\u001b[0m         \u001b[0mValid\u001b[0m \u001b[0mresource\u001b[0m \u001b[0mnames\u001b[0m\u001b[1;33m:\u001b[0m \u001b[0mdata\u001b[0m\u001b[1;33m,\u001b[0m \u001b[0mformat\u001b[0m\u001b[1;33m,\u001b[0m \u001b[0mfile\u001b[0m\u001b[1;33m,\u001b[0m \u001b[0mgamma\u001b[0m\u001b[1;33m,\u001b[0m \u001b[0mheight\u001b[0m\u001b[1;33m,\u001b[0m \u001b[0mpalette\u001b[0m\u001b[1;33m,\u001b[0m\u001b[1;33m\u001b[0m\u001b[1;33m\u001b[0m\u001b[0m\n\u001b[0;32m   3544\u001b[0m         width.\"\"\"\n\u001b[1;32m-> 3545\u001b[1;33m         \u001b[0mImage\u001b[0m\u001b[1;33m.\u001b[0m\u001b[0m__init__\u001b[0m\u001b[1;33m(\u001b[0m\u001b[0mself\u001b[0m\u001b[1;33m,\u001b[0m \u001b[1;34m'photo'\u001b[0m\u001b[1;33m,\u001b[0m \u001b[0mname\u001b[0m\u001b[1;33m,\u001b[0m \u001b[0mcnf\u001b[0m\u001b[1;33m,\u001b[0m \u001b[0mmaster\u001b[0m\u001b[1;33m,\u001b[0m \u001b[1;33m**\u001b[0m\u001b[0mkw\u001b[0m\u001b[1;33m)\u001b[0m\u001b[1;33m\u001b[0m\u001b[1;33m\u001b[0m\u001b[0m\n\u001b[0m\u001b[0;32m   3546\u001b[0m     \u001b[1;32mdef\u001b[0m \u001b[0mblank\u001b[0m\u001b[1;33m(\u001b[0m\u001b[0mself\u001b[0m\u001b[1;33m)\u001b[0m\u001b[1;33m:\u001b[0m\u001b[1;33m\u001b[0m\u001b[1;33m\u001b[0m\u001b[0m\n\u001b[0;32m   3547\u001b[0m         \u001b[1;34m\"\"\"Display a transparent image.\"\"\"\u001b[0m\u001b[1;33m\u001b[0m\u001b[1;33m\u001b[0m\u001b[0m\n",
      "\u001b[1;32m~\\Anaconda3\\envs\\flatland-rl\\lib\\tkinter\\__init__.py\u001b[0m in \u001b[0;36m__init__\u001b[1;34m(self, imgtype, name, cnf, master, **kw)\u001b[0m\n\u001b[0;32m   3487\u001b[0m             \u001b[0mmaster\u001b[0m \u001b[1;33m=\u001b[0m \u001b[0m_default_root\u001b[0m\u001b[1;33m\u001b[0m\u001b[1;33m\u001b[0m\u001b[0m\n\u001b[0;32m   3488\u001b[0m             \u001b[1;32mif\u001b[0m \u001b[1;32mnot\u001b[0m \u001b[0mmaster\u001b[0m\u001b[1;33m:\u001b[0m\u001b[1;33m\u001b[0m\u001b[1;33m\u001b[0m\u001b[0m\n\u001b[1;32m-> 3489\u001b[1;33m                 \u001b[1;32mraise\u001b[0m \u001b[0mRuntimeError\u001b[0m\u001b[1;33m(\u001b[0m\u001b[1;34m'Too early to create image'\u001b[0m\u001b[1;33m)\u001b[0m\u001b[1;33m\u001b[0m\u001b[1;33m\u001b[0m\u001b[0m\n\u001b[0m\u001b[0;32m   3490\u001b[0m         \u001b[0mself\u001b[0m\u001b[1;33m.\u001b[0m\u001b[0mtk\u001b[0m \u001b[1;33m=\u001b[0m \u001b[0mgetattr\u001b[0m\u001b[1;33m(\u001b[0m\u001b[0mmaster\u001b[0m\u001b[1;33m,\u001b[0m \u001b[1;34m'tk'\u001b[0m\u001b[1;33m,\u001b[0m \u001b[0mmaster\u001b[0m\u001b[1;33m)\u001b[0m\u001b[1;33m\u001b[0m\u001b[1;33m\u001b[0m\u001b[0m\n\u001b[0;32m   3491\u001b[0m         \u001b[1;32mif\u001b[0m \u001b[1;32mnot\u001b[0m \u001b[0mname\u001b[0m\u001b[1;33m:\u001b[0m\u001b[1;33m\u001b[0m\u001b[1;33m\u001b[0m\u001b[0m\n",
      "\u001b[1;31mRuntimeError\u001b[0m: Too early to create image"
     ]
    }
   ],
   "source": [
    "def my_controller():\n",
    "    \"\"\"\n",
    "    You are supposed to write this controller\n",
    "    \"\"\"\n",
    "    _action = {}\n",
    "    for _idx in range(NUMBER_OF_AGENTS):\n",
    "        _action[_idx] = np.random.randint(0, 5)\n",
    "    return _action\n",
    "\n",
    "for step in range(100):\n",
    "\n",
    "    _action = my_controller()\n",
    "    obs, all_rewards, done, _ = env.step(_action)\n",
    "    print(\"Rewards: {}, [done={}]\".format( all_rewards, done))\n",
    "    env_renderer.render_env(show=True, frames=False, show_observations=False)\n",
    "    time.sleep(0.3)"
   ]
  },
  {
   "cell_type": "code",
   "execution_count": null,
   "metadata": {},
   "outputs": [],
   "source": []
  }
 ],
 "metadata": {
  "kernelspec": {
   "display_name": "Python 3",
   "language": "python",
   "name": "python3"
  },
  "language_info": {
   "codemirror_mode": {
    "name": "ipython",
    "version": 3
   },
   "file_extension": ".py",
   "mimetype": "text/x-python",
   "name": "python",
   "nbconvert_exporter": "python",
   "pygments_lexer": "ipython3",
   "version": "3.6.9"
  }
 },
 "nbformat": 4,
 "nbformat_minor": 2
}
