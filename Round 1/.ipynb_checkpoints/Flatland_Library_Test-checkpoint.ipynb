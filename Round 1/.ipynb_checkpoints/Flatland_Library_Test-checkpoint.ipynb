{
 "cells": [
  {
   "cell_type": "code",
   "execution_count": 1,
   "metadata": {},
   "outputs": [],
   "source": [
    "import numpy as np\n",
    "import time\n",
    "from flatland.envs.rail_generators import complex_rail_generator\n",
    "from flatland.envs.schedule_generators import complex_schedule_generator\n",
    "from flatland.envs.rail_env import RailEnv\n",
    "from flatland.utils.rendertools import RenderTool\n",
    "\n",
    "from tkinter import *\n"
   ]
  },
  {
   "cell_type": "code",
   "execution_count": 2,
   "metadata": {},
   "outputs": [],
   "source": [
    "NUMBER_OF_AGENTS = 10 "
   ]
  },
  {
   "cell_type": "markdown",
   "metadata": {},
   "source": [
    "### RailEnv: \n",
    "- creating an object, endowed with a rail gerneator\n",
    "\n",
    "### observation generator: \n",
    "- supplied with environ-specific information at each time step and gives suitable observation vector to the agetns. \n"
   ]
  },
  {
   "cell_type": "code",
   "execution_count": null,
   "metadata": {},
   "outputs": [],
   "source": [
    "\n",
    "env = RailEnv(\n",
    "    \n",
    "    # parameters taht control the dimensions of the map.\n",
    "    width = 30,\n",
    "    height = 20,\n",
    "    \n",
    "    # Rail generator: generates new rail networks on each reset\n",
    "    # simplest rail generators: \n",
    "    #         envs.rail_generators.rail_from_manual_specifications_generator and \n",
    "    #         envs.rail_generators.random_rail_generator.\n",
    "    \n",
    "    rail_generator = complex_rail_generator (\n",
    "        nr_start_goal = 10,\n",
    "        nr_extra = 1,\n",
    "        min_dist = 8,\n",
    "        max_dist = 99999,\n",
    "        seed = 0\n",
    "    ),\n",
    "    schedule_generator = complex_schedule_generator(),\n",
    "    number_of_agents = NUMBER_OF_AGENTS\n",
    ")\n",
    "\n"
   ]
  },
  {
   "cell_type": "code",
   "execution_count": null,
   "metadata": {},
   "outputs": [],
   "source": [
    "# envs.rail_generators.rail_from_manual_specifications_generator\n",
    "# accepts: a list of lists, 2-tuple element, (cell_type, clockwise rotation)\n",
    "from flatland.envs.rail_generators import rail_from_manual_specifications_generator\n",
    "from flatland.envs.observations import TreeObsForRailEnv\n",
    "\n",
    "specs = [[(0, 0), (0, 0), (0, 0), (0, 0), (0, 0), (0, 0)],\n",
    "         [(0, 0), (0, 0), (0, 0), (0, 0), (7, 0), (0, 0)],\n",
    "         [(7, 270), (1, 90), (1, 90), (1, 90), (2, 90), (7, 90)],\n",
    "         [(0, 0), (0, 0), (0, 0), (0, 0), (0, 0), (0, 0)]]\n",
    "\n",
    "env = RailEnv(width=6,\n",
    "              height=4,\n",
    "              rail_generator=rail_from_manual_specifications_generator(specs),\n",
    "              number_of_agents=1,\n",
    "              obs_builder_object=TreeObsForRailEnv(max_depth=2))\n"
   ]
  },
  {
   "cell_type": "code",
   "execution_count": 3,
   "metadata": {},
   "outputs": [],
   "source": [
    "# a random environment can be generated\n",
    "# can adjust the proportion of each cell type via chagneing weights\n",
    "from flatland.envs.rail_generators import random_rail_generator\n",
    "from flatland.envs.observations import TreeObsForRailEnv\n",
    "\n",
    "transition_probability = [1.0,  # empty cell - Case 0\n",
    "                          1.0,  # Case 1 - straight\n",
    "                          1.0,  # Case 2 - simple switch\n",
    "                          0.3,  # Case 3 - diamond drossing\n",
    "                          0.5,  # Case 4 - single slip\n",
    "                          0.5,  # Case 5 - double slip\n",
    "                          0.2,  # Case 6 - symmetrical\n",
    "                          0.0,  # Case 7 - dead end\n",
    "                          0.2,  # Case 8 - turn left\n",
    "                          0.2,  # Case 9 - turn right\n",
    "                          1.0]  # Case 10 - mirrored switch\n",
    "\n",
    "# Example generate a random rail\n",
    "env = RailEnv(width=10,\n",
    "              height=10,\n",
    "              rail_generator=random_rail_generator(\n",
    "                        cell_type_relative_proportion=transition_probability\n",
    "                        ),\n",
    "              number_of_agents=3,\n",
    "              obs_builder_object=TreeObsForRailEnv(max_depth=2))"
   ]
  },
  {
   "cell_type": "code",
   "execution_count": 4,
   "metadata": {},
   "outputs": [],
   "source": [
    "# tool to render environments\n",
    "env_renderer = RenderTool(env, gl=\"PIL\")\n",
    "\n",
    "# env_renderer = RenderTool (env)\n",
    "env_renderer.render_env(show=True)\n"
   ]
  },
  {
   "cell_type": "markdown",
   "metadata": {},
   "source": [
    "# Controller to give actions for each agent"
   ]
  },
  {
   "cell_type": "code",
   "execution_count": 5,
   "metadata": {
    "scrolled": true
   },
   "outputs": [
    {
     "name": "stdout",
     "output_type": "stream",
     "text": [
      "Rewards: {0: -1.0, 1: -1.0, 2: -1.0}, [done={0: False, 1: False, 2: False, '__all__': False}]\n",
      "Rewards: {0: -1.0, 1: -1.0, 2: -1.0}, [done={0: False, 1: False, 2: False, '__all__': False}]\n",
      "Rewards: {0: -1.0, 1: -1.0, 2: -1.0}, [done={0: False, 1: False, 2: False, '__all__': False}]\n",
      "Rewards: {0: -1.0, 1: -1.0, 2: -1.0}, [done={0: False, 1: False, 2: False, '__all__': False}]\n",
      "Rewards: {0: -1.0, 1: -1.0, 2: -1.0}, [done={0: False, 1: False, 2: False, '__all__': False}]\n",
      "Rewards: {0: -1.0, 1: -1.0, 2: -1.0}, [done={0: False, 1: False, 2: False, '__all__': False}]\n",
      "Rewards: {0: -1.0, 1: -1.0, 2: -1.0}, [done={0: False, 1: False, 2: False, '__all__': False}]\n",
      "Rewards: {0: -1.0, 1: -1.0, 2: -1.0}, [done={0: False, 1: False, 2: False, '__all__': False}]\n",
      "Rewards: {0: -1.0, 1: -1.0, 2: -1.0}, [done={0: False, 1: False, 2: False, '__all__': False}]\n",
      "Rewards: {0: -1.0, 1: -1.0, 2: -1.0}, [done={0: False, 1: False, 2: False, '__all__': False}]\n",
      "Rewards: {0: -1.0, 1: -1.0, 2: -1.0}, [done={0: False, 1: False, 2: False, '__all__': False}]\n",
      "Rewards: {0: -1.0, 1: -1.0, 2: -1.0}, [done={0: False, 1: False, 2: False, '__all__': False}]\n",
      "Rewards: {0: -1.0, 1: -1.0, 2: -1.0}, [done={0: False, 1: False, 2: False, '__all__': False}]\n",
      "Rewards: {0: -1.0, 1: -1.0, 2: -1.0}, [done={0: False, 1: False, 2: False, '__all__': False}]\n",
      "Rewards: {0: -1.0, 1: -1.0, 2: -1.0}, [done={0: False, 1: False, 2: False, '__all__': False}]\n",
      "Rewards: {0: -1.0, 1: -1.0, 2: -1.0}, [done={0: False, 1: False, 2: False, '__all__': False}]\n",
      "Rewards: {0: -1.0, 1: -1.0, 2: -1.0}, [done={0: False, 1: False, 2: False, '__all__': False}]\n",
      "Rewards: {0: -1.0, 1: -1.0, 2: -1.0}, [done={0: False, 1: False, 2: False, '__all__': False}]\n",
      "Rewards: {0: -1.0, 1: -1.0, 2: -1.0}, [done={0: False, 1: False, 2: False, '__all__': False}]\n",
      "Rewards: {0: -1.0, 1: -1.0, 2: -1.0}, [done={0: False, 1: False, 2: False, '__all__': False}]\n",
      "Rewards: {0: -1.0, 1: -1.0, 2: -1.0}, [done={0: False, 1: False, 2: False, '__all__': False}]\n",
      "Rewards: {0: -1.0, 1: -1.0, 2: -1.0}, [done={0: False, 1: False, 2: False, '__all__': False}]\n",
      "Rewards: {0: -1.0, 1: -1.0, 2: -1.0}, [done={0: False, 1: False, 2: False, '__all__': False}]\n",
      "Rewards: {0: -1.0, 1: -1.0, 2: -1.0}, [done={0: False, 1: False, 2: False, '__all__': False}]\n",
      "Rewards: {0: -1.0, 1: -1.0, 2: -1.0}, [done={0: False, 1: False, 2: False, '__all__': False}]\n",
      "Rewards: {0: -1.0, 1: -1.0, 2: -1.0}, [done={0: False, 1: False, 2: False, '__all__': False}]\n",
      "Rewards: {0: -1.0, 1: -1.0, 2: -1.0}, [done={0: False, 1: False, 2: False, '__all__': False}]\n",
      "Rewards: {0: -1.0, 1: -1.0, 2: -1.0}, [done={0: False, 1: False, 2: False, '__all__': False}]\n",
      "Rewards: {0: -1.0, 1: -1.0, 2: -1.0}, [done={0: False, 1: False, 2: False, '__all__': False}]\n",
      "Rewards: {0: -1.0, 1: -1.0, 2: -1.0}, [done={0: False, 1: False, 2: False, '__all__': False}]\n",
      "Rewards: {0: -1.0, 1: -1.0, 2: -1.0}, [done={0: False, 1: False, 2: False, '__all__': False}]\n",
      "Rewards: {0: -1.0, 1: -1.0, 2: -1.0}, [done={0: False, 1: False, 2: False, '__all__': False}]\n",
      "Rewards: {0: -1.0, 1: -1.0, 2: -1.0}, [done={0: False, 1: False, 2: False, '__all__': False}]\n",
      "Rewards: {0: -1.0, 1: -1.0, 2: -1.0}, [done={0: False, 1: False, 2: False, '__all__': False}]\n",
      "Rewards: {0: -1.0, 1: -1.0, 2: -1.0}, [done={0: False, 1: False, 2: False, '__all__': False}]\n",
      "Rewards: {0: -1.0, 1: -1.0, 2: -1.0}, [done={0: False, 1: False, 2: False, '__all__': False}]\n",
      "Rewards: {0: -1.0, 1: -1.0, 2: -1.0}, [done={0: False, 1: False, 2: False, '__all__': False}]\n",
      "Rewards: {0: -1.0, 1: -1.0, 2: -1.0}, [done={0: False, 1: False, 2: False, '__all__': False}]\n",
      "Rewards: {0: -1.0, 1: -1.0, 2: -1.0}, [done={0: False, 1: False, 2: False, '__all__': False}]\n",
      "Rewards: {0: -1.0, 1: -1.0, 2: -1.0}, [done={0: False, 1: False, 2: False, '__all__': False}]\n",
      "Rewards: {0: -1.0, 1: -1.0, 2: -1.0}, [done={0: False, 1: False, 2: False, '__all__': False}]\n",
      "Rewards: {0: -1.0, 1: -1.0, 2: -1.0}, [done={0: False, 1: False, 2: False, '__all__': False}]\n",
      "Rewards: {0: -1.0, 1: -1.0, 2: -1.0}, [done={0: False, 1: False, 2: False, '__all__': False}]\n",
      "Rewards: {0: -1.0, 1: -1.0, 2: -1.0}, [done={0: False, 1: False, 2: False, '__all__': False}]\n",
      "Rewards: {0: -1.0, 1: -1.0, 2: -1.0}, [done={0: False, 1: False, 2: False, '__all__': False}]\n",
      "Rewards: {0: -1.0, 1: -1.0, 2: -1.0}, [done={0: False, 1: False, 2: False, '__all__': False}]\n",
      "Rewards: {0: -1.0, 1: -1.0, 2: -1.0}, [done={0: False, 1: False, 2: False, '__all__': False}]\n",
      "Rewards: {0: -1.0, 1: -1.0, 2: -1.0}, [done={0: False, 1: False, 2: False, '__all__': False}]\n",
      "Rewards: {0: -1.0, 1: -1.0, 2: -1.0}, [done={0: False, 1: False, 2: False, '__all__': False}]\n",
      "Rewards: {0: -1.0, 1: -1.0, 2: -1.0}, [done={0: False, 1: False, 2: False, '__all__': False}]\n",
      "Rewards: {0: -1.0, 1: -1.0, 2: -1.0}, [done={0: False, 1: False, 2: False, '__all__': False}]\n",
      "Rewards: {0: -1.0, 1: -1.0, 2: -1.0}, [done={0: False, 1: False, 2: False, '__all__': False}]\n",
      "Rewards: {0: -1.0, 1: -1.0, 2: -1.0}, [done={0: False, 1: False, 2: False, '__all__': False}]\n",
      "Rewards: {0: -1.0, 1: -1.0, 2: -1.0}, [done={0: False, 1: False, 2: False, '__all__': False}]\n",
      "Rewards: {0: -1.0, 1: -1.0, 2: -1.0}, [done={0: False, 1: False, 2: False, '__all__': False}]\n",
      "Rewards: {0: -1.0, 1: -1.0, 2: -1.0}, [done={0: False, 1: False, 2: False, '__all__': False}]\n",
      "Rewards: {0: -1.0, 1: -1.0, 2: -1.0}, [done={0: False, 1: False, 2: False, '__all__': False}]\n"
     ]
    },
    {
     "ename": "RuntimeError",
     "evalue": "Too early to create image",
     "output_type": "error",
     "traceback": [
      "\u001b[1;31m---------------------------------------------------------------------------\u001b[0m",
      "\u001b[1;31mRuntimeError\u001b[0m                              Traceback (most recent call last)",
      "\u001b[1;32m<ipython-input-5-89e778bbeff0>\u001b[0m in \u001b[0;36m<module>\u001b[1;34m\u001b[0m\n\u001b[0;32m     24\u001b[0m     \u001b[0mobs\u001b[0m\u001b[1;33m,\u001b[0m \u001b[0mall_rewards\u001b[0m\u001b[1;33m,\u001b[0m \u001b[0mdone\u001b[0m\u001b[1;33m,\u001b[0m \u001b[0m_\u001b[0m \u001b[1;33m=\u001b[0m \u001b[0menv\u001b[0m\u001b[1;33m.\u001b[0m\u001b[0mstep\u001b[0m\u001b[1;33m(\u001b[0m\u001b[0m_action\u001b[0m\u001b[1;33m)\u001b[0m\u001b[1;33m\u001b[0m\u001b[1;33m\u001b[0m\u001b[0m\n\u001b[0;32m     25\u001b[0m     \u001b[0mprint\u001b[0m\u001b[1;33m(\u001b[0m\u001b[1;34m\"Rewards: {}, [done={}]\"\u001b[0m\u001b[1;33m.\u001b[0m\u001b[0mformat\u001b[0m\u001b[1;33m(\u001b[0m \u001b[0mall_rewards\u001b[0m\u001b[1;33m,\u001b[0m \u001b[0mdone\u001b[0m\u001b[1;33m)\u001b[0m\u001b[1;33m)\u001b[0m\u001b[1;33m\u001b[0m\u001b[1;33m\u001b[0m\u001b[0m\n\u001b[1;32m---> 26\u001b[1;33m     \u001b[0menv_renderer\u001b[0m\u001b[1;33m.\u001b[0m\u001b[0mrender_env\u001b[0m\u001b[1;33m(\u001b[0m\u001b[0mshow\u001b[0m\u001b[1;33m=\u001b[0m\u001b[1;32mTrue\u001b[0m\u001b[1;33m,\u001b[0m \u001b[0mframes\u001b[0m\u001b[1;33m=\u001b[0m\u001b[1;32mFalse\u001b[0m\u001b[1;33m,\u001b[0m \u001b[0mshow_observations\u001b[0m\u001b[1;33m=\u001b[0m\u001b[1;32mFalse\u001b[0m\u001b[1;33m)\u001b[0m\u001b[1;33m\u001b[0m\u001b[1;33m\u001b[0m\u001b[0m\n\u001b[0m\u001b[0;32m     27\u001b[0m     \u001b[0mtime\u001b[0m\u001b[1;33m.\u001b[0m\u001b[0msleep\u001b[0m\u001b[1;33m(\u001b[0m\u001b[1;36m0.3\u001b[0m\u001b[1;33m)\u001b[0m\u001b[1;33m\u001b[0m\u001b[1;33m\u001b[0m\u001b[0m\n",
      "\u001b[1;32m~\\Anaconda3\\envs\\flatland-rl\\lib\\site-packages\\flatland\\utils\\rendertools.py\u001b[0m in \u001b[0;36mrender_env\u001b[1;34m(self, show, agents, show_observations, show_predictions, frames, episode, step, selected_agent)\u001b[0m\n\u001b[0;32m    422\u001b[0m                                 \u001b[0mepisode\u001b[0m\u001b[1;33m=\u001b[0m\u001b[0mepisode\u001b[0m\u001b[1;33m,\u001b[0m\u001b[1;33m\u001b[0m\u001b[1;33m\u001b[0m\u001b[0m\n\u001b[0;32m    423\u001b[0m                                 \u001b[0mstep\u001b[0m\u001b[1;33m=\u001b[0m\u001b[0mstep\u001b[0m\u001b[1;33m,\u001b[0m\u001b[1;33m\u001b[0m\u001b[1;33m\u001b[0m\u001b[0m\n\u001b[1;32m--> 424\u001b[1;33m                                 \u001b[0mselected_agent\u001b[0m\u001b[1;33m=\u001b[0m\u001b[0mselected_agent\u001b[0m\u001b[1;33m\u001b[0m\u001b[1;33m\u001b[0m\u001b[0m\n\u001b[0m\u001b[0;32m    425\u001b[0m                                 )\n\u001b[0;32m    426\u001b[0m \u001b[1;33m\u001b[0m\u001b[0m\n",
      "\u001b[1;32m~\\Anaconda3\\envs\\flatland-rl\\lib\\site-packages\\flatland\\utils\\rendertools.py\u001b[0m in \u001b[0;36mrender_env_pil\u001b[1;34m(self, show, agents, show_observations, show_predictions, frames, episode, step, selected_agent)\u001b[0m\n\u001b[0;32m    488\u001b[0m \u001b[1;33m\u001b[0m\u001b[0m\n\u001b[0;32m    489\u001b[0m         \u001b[1;32mif\u001b[0m \u001b[0mshow\u001b[0m \u001b[1;32mand\u001b[0m \u001b[0mtype\u001b[0m\u001b[1;33m(\u001b[0m\u001b[0mself\u001b[0m\u001b[1;33m.\u001b[0m\u001b[0mgl\u001b[0m\u001b[1;33m)\u001b[0m \u001b[1;32mis\u001b[0m \u001b[0mPILGL\u001b[0m\u001b[1;33m:\u001b[0m\u001b[1;33m\u001b[0m\u001b[1;33m\u001b[0m\u001b[0m\n\u001b[1;32m--> 490\u001b[1;33m             \u001b[0mself\u001b[0m\u001b[1;33m.\u001b[0m\u001b[0mgl\u001b[0m\u001b[1;33m.\u001b[0m\u001b[0mshow\u001b[0m\u001b[1;33m(\u001b[0m\u001b[1;33m)\u001b[0m\u001b[1;33m\u001b[0m\u001b[1;33m\u001b[0m\u001b[0m\n\u001b[0m\u001b[0;32m    491\u001b[0m \u001b[1;33m\u001b[0m\u001b[0m\n\u001b[0;32m    492\u001b[0m         \u001b[0mself\u001b[0m\u001b[1;33m.\u001b[0m\u001b[0mgl\u001b[0m\u001b[1;33m.\u001b[0m\u001b[0mpause\u001b[0m\u001b[1;33m(\u001b[0m\u001b[1;36m0.00001\u001b[0m\u001b[1;33m)\u001b[0m\u001b[1;33m\u001b[0m\u001b[1;33m\u001b[0m\u001b[0m\n",
      "\u001b[1;32m~\\Anaconda3\\envs\\flatland-rl\\lib\\site-packages\\flatland\\utils\\graphics_pil.py\u001b[0m in \u001b[0;36mshow\u001b[1;34m(self, block)\u001b[0m\n\u001b[0;32m    196\u001b[0m             \u001b[0mself\u001b[0m\u001b[1;33m.\u001b[0m\u001b[0mopen_window\u001b[0m\u001b[1;33m(\u001b[0m\u001b[1;33m)\u001b[0m\u001b[1;33m\u001b[0m\u001b[1;33m\u001b[0m\u001b[0m\n\u001b[0;32m    197\u001b[0m \u001b[1;33m\u001b[0m\u001b[0m\n\u001b[1;32m--> 198\u001b[1;33m         \u001b[0mtkimg\u001b[0m \u001b[1;33m=\u001b[0m \u001b[0mImageTk\u001b[0m\u001b[1;33m.\u001b[0m\u001b[0mPhotoImage\u001b[0m\u001b[1;33m(\u001b[0m\u001b[0mimg\u001b[0m\u001b[1;33m)\u001b[0m\u001b[1;33m\u001b[0m\u001b[1;33m\u001b[0m\u001b[0m\n\u001b[0m\u001b[0;32m    199\u001b[0m \u001b[1;33m\u001b[0m\u001b[0m\n\u001b[0;32m    200\u001b[0m         \u001b[1;32mif\u001b[0m \u001b[0mself\u001b[0m\u001b[1;33m.\u001b[0m\u001b[0mfirstFrame\u001b[0m\u001b[1;33m:\u001b[0m\u001b[1;33m\u001b[0m\u001b[1;33m\u001b[0m\u001b[0m\n",
      "\u001b[1;32m~\\Anaconda3\\envs\\flatland-rl\\lib\\site-packages\\PIL\\ImageTk.py\u001b[0m in \u001b[0;36m__init__\u001b[1;34m(self, image, size, **kw)\u001b[0m\n\u001b[0;32m    116\u001b[0m         \u001b[0mself\u001b[0m\u001b[1;33m.\u001b[0m\u001b[0m__mode\u001b[0m \u001b[1;33m=\u001b[0m \u001b[0mmode\u001b[0m\u001b[1;33m\u001b[0m\u001b[1;33m\u001b[0m\u001b[0m\n\u001b[0;32m    117\u001b[0m         \u001b[0mself\u001b[0m\u001b[1;33m.\u001b[0m\u001b[0m__size\u001b[0m \u001b[1;33m=\u001b[0m \u001b[0msize\u001b[0m\u001b[1;33m\u001b[0m\u001b[1;33m\u001b[0m\u001b[0m\n\u001b[1;32m--> 118\u001b[1;33m         \u001b[0mself\u001b[0m\u001b[1;33m.\u001b[0m\u001b[0m__photo\u001b[0m \u001b[1;33m=\u001b[0m \u001b[0mtkinter\u001b[0m\u001b[1;33m.\u001b[0m\u001b[0mPhotoImage\u001b[0m\u001b[1;33m(\u001b[0m\u001b[1;33m**\u001b[0m\u001b[0mkw\u001b[0m\u001b[1;33m)\u001b[0m\u001b[1;33m\u001b[0m\u001b[1;33m\u001b[0m\u001b[0m\n\u001b[0m\u001b[0;32m    119\u001b[0m         \u001b[0mself\u001b[0m\u001b[1;33m.\u001b[0m\u001b[0mtk\u001b[0m \u001b[1;33m=\u001b[0m \u001b[0mself\u001b[0m\u001b[1;33m.\u001b[0m\u001b[0m__photo\u001b[0m\u001b[1;33m.\u001b[0m\u001b[0mtk\u001b[0m\u001b[1;33m\u001b[0m\u001b[1;33m\u001b[0m\u001b[0m\n\u001b[0;32m    120\u001b[0m         \u001b[1;32mif\u001b[0m \u001b[0mimage\u001b[0m\u001b[1;33m:\u001b[0m\u001b[1;33m\u001b[0m\u001b[1;33m\u001b[0m\u001b[0m\n",
      "\u001b[1;32m~\\Anaconda3\\envs\\flatland-rl\\lib\\tkinter\\__init__.py\u001b[0m in \u001b[0;36m__init__\u001b[1;34m(self, name, cnf, master, **kw)\u001b[0m\n\u001b[0;32m   3543\u001b[0m         \u001b[0mValid\u001b[0m \u001b[0mresource\u001b[0m \u001b[0mnames\u001b[0m\u001b[1;33m:\u001b[0m \u001b[0mdata\u001b[0m\u001b[1;33m,\u001b[0m \u001b[0mformat\u001b[0m\u001b[1;33m,\u001b[0m \u001b[0mfile\u001b[0m\u001b[1;33m,\u001b[0m \u001b[0mgamma\u001b[0m\u001b[1;33m,\u001b[0m \u001b[0mheight\u001b[0m\u001b[1;33m,\u001b[0m \u001b[0mpalette\u001b[0m\u001b[1;33m,\u001b[0m\u001b[1;33m\u001b[0m\u001b[1;33m\u001b[0m\u001b[0m\n\u001b[0;32m   3544\u001b[0m         width.\"\"\"\n\u001b[1;32m-> 3545\u001b[1;33m         \u001b[0mImage\u001b[0m\u001b[1;33m.\u001b[0m\u001b[0m__init__\u001b[0m\u001b[1;33m(\u001b[0m\u001b[0mself\u001b[0m\u001b[1;33m,\u001b[0m \u001b[1;34m'photo'\u001b[0m\u001b[1;33m,\u001b[0m \u001b[0mname\u001b[0m\u001b[1;33m,\u001b[0m \u001b[0mcnf\u001b[0m\u001b[1;33m,\u001b[0m \u001b[0mmaster\u001b[0m\u001b[1;33m,\u001b[0m \u001b[1;33m**\u001b[0m\u001b[0mkw\u001b[0m\u001b[1;33m)\u001b[0m\u001b[1;33m\u001b[0m\u001b[1;33m\u001b[0m\u001b[0m\n\u001b[0m\u001b[0;32m   3546\u001b[0m     \u001b[1;32mdef\u001b[0m \u001b[0mblank\u001b[0m\u001b[1;33m(\u001b[0m\u001b[0mself\u001b[0m\u001b[1;33m)\u001b[0m\u001b[1;33m:\u001b[0m\u001b[1;33m\u001b[0m\u001b[1;33m\u001b[0m\u001b[0m\n\u001b[0;32m   3547\u001b[0m         \u001b[1;34m\"\"\"Display a transparent image.\"\"\"\u001b[0m\u001b[1;33m\u001b[0m\u001b[1;33m\u001b[0m\u001b[0m\n",
      "\u001b[1;32m~\\Anaconda3\\envs\\flatland-rl\\lib\\tkinter\\__init__.py\u001b[0m in \u001b[0;36m__init__\u001b[1;34m(self, imgtype, name, cnf, master, **kw)\u001b[0m\n\u001b[0;32m   3487\u001b[0m             \u001b[0mmaster\u001b[0m \u001b[1;33m=\u001b[0m \u001b[0m_default_root\u001b[0m\u001b[1;33m\u001b[0m\u001b[1;33m\u001b[0m\u001b[0m\n\u001b[0;32m   3488\u001b[0m             \u001b[1;32mif\u001b[0m \u001b[1;32mnot\u001b[0m \u001b[0mmaster\u001b[0m\u001b[1;33m:\u001b[0m\u001b[1;33m\u001b[0m\u001b[1;33m\u001b[0m\u001b[0m\n\u001b[1;32m-> 3489\u001b[1;33m                 \u001b[1;32mraise\u001b[0m \u001b[0mRuntimeError\u001b[0m\u001b[1;33m(\u001b[0m\u001b[1;34m'Too early to create image'\u001b[0m\u001b[1;33m)\u001b[0m\u001b[1;33m\u001b[0m\u001b[1;33m\u001b[0m\u001b[0m\n\u001b[0m\u001b[0;32m   3490\u001b[0m         \u001b[0mself\u001b[0m\u001b[1;33m.\u001b[0m\u001b[0mtk\u001b[0m \u001b[1;33m=\u001b[0m \u001b[0mgetattr\u001b[0m\u001b[1;33m(\u001b[0m\u001b[0mmaster\u001b[0m\u001b[1;33m,\u001b[0m \u001b[1;34m'tk'\u001b[0m\u001b[1;33m,\u001b[0m \u001b[0mmaster\u001b[0m\u001b[1;33m)\u001b[0m\u001b[1;33m\u001b[0m\u001b[1;33m\u001b[0m\u001b[0m\n\u001b[0;32m   3491\u001b[0m         \u001b[1;32mif\u001b[0m \u001b[1;32mnot\u001b[0m \u001b[0mname\u001b[0m\u001b[1;33m:\u001b[0m\u001b[1;33m\u001b[0m\u001b[1;33m\u001b[0m\u001b[0m\n",
      "\u001b[1;31mRuntimeError\u001b[0m: Too early to create image"
     ]
    }
   ],
   "source": [
    "def my_controller():\n",
    "    \"\"\"\n",
    "    You are supposed to write this controller\n",
    "    \"\"\"\n",
    "    _action = {}\n",
    "    for _idx in range(NUMBER_OF_AGENTS):\n",
    "        _action[_idx] = np.random.randint(0, 5)\n",
    "    return _action\n",
    "\n",
    "for step in range(100):\n",
    "\n",
    "    # Get agents' handles to give actions\n",
    "    # handles = env.get_agent_handles()\n",
    "    \n",
    "    # e.g. giving two agents actions. \n",
    "    # action_dict = {handles[0]:0, handles[1]:0}\n",
    "    \n",
    "    _action = my_controller()\n",
    "    \n",
    "    # obs, all_rewards, done: dictionary indexed by agents handles\n",
    "        # values: correspond to the relevant obeservations, rewards and terminal \n",
    "        #       status for each agent.\n",
    "    \n",
    "    obs, all_rewards, done, _ = env.step(_action) # environment take one step with the provided actions.\n",
    "    \n",
    "    # show results\n",
    "    print(\"Rewards: {}, [done={}]\".format( all_rewards, done))\n",
    "    env_renderer.render_env(show=True, frames=False, show_observations=False)\n",
    "    time.sleep(0.3)"
   ]
  },
  {
   "cell_type": "markdown",
   "metadata": {},
   "source": [
    "## The following example works, only when there is a controller sending all actions. Otherwise, it looks like frozen."
   ]
  },
  {
   "cell_type": "code",
   "execution_count": null,
   "metadata": {},
   "outputs": [],
   "source": [
    "import random\n",
    "\n",
    "import numpy as np\n",
    "\n",
    "from flatland.envs.rail_env import RailEnv\n",
    "from flatland.envs.rail_generators import random_rail_generator\n",
    "from flatland.utils.rendertools import RenderTool\n",
    "\n",
    "random.seed(100)\n",
    "np.random.seed(100)\n",
    "\n",
    "# Relative weights of each cell type to be used by the random rail generators.\n",
    "transition_probability = [1.0,  # empty cell - Case 0\n",
    "                          1.0,  # Case 1 - straight\n",
    "                          1.0,  # Case 2 - simple switch\n",
    "                          0.3,  # Case 3 - diamond drossing\n",
    "                          0.5,  # Case 4 - single slip\n",
    "                          0.5,  # Case 5 - double slip\n",
    "                          0.2,  # Case 6 - symmetrical\n",
    "                          0.0,  # Case 7 - dead end\n",
    "                          0.2,  # Case 8 - turn left\n",
    "                          0.2,  # Case 9 - turn right\n",
    "                          1.0]  # Case 10 - mirrored switch\n",
    "\n",
    "# Example generate a random rail\n",
    "env = RailEnv(width=10,\n",
    "              height=10,\n",
    "              rail_generator=random_rail_generator(cell_type_relative_proportion=transition_probability),\n",
    "              number_of_agents=3)\n",
    "\n",
    "# env.reset()\n",
    "\n",
    "env_renderer = RenderTool(env, gl=\"PIL\")\n",
    "env_renderer.render_env(show=True)\n",
    "\n"
   ]
  },
  {
   "cell_type": "markdown",
   "metadata": {},
   "source": [
    "## Training a simple an agent on flatland"
   ]
  },
  {
   "cell_type": "code",
   "execution_count": 6,
   "metadata": {},
   "outputs": [],
   "source": [
    "from flatland.envs.rail_generators import complex_rail_generator\n",
    "from flatland.envs.schedule_generators import complex_schedule_generator\n",
    "from flatland.envs.rail_env import RailEnv"
   ]
  },
  {
   "cell_type": "code",
   "execution_count": 8,
   "metadata": {},
   "outputs": [],
   "source": [
    "#  complex_rail_generator:\n",
    "#   guarantee feasible railway network configurations for training.\n",
    "#   configure the difficulty of task by modifying parameters"
   ]
  },
  {
   "cell_type": "code",
   "execution_count": 9,
   "metadata": {},
   "outputs": [],
   "source": [
    "# Difficulty depends on dimensions, and the number of agents\n",
    "# more possible paths an agent has to reach its target the easier the task becomes\n"
   ]
  },
  {
   "cell_type": "code",
   "execution_count": 10,
   "metadata": {},
   "outputs": [
    {
     "name": "stdout",
     "output_type": "stream",
     "text": [
      "re_generate cnt=2\n",
      "re_generate cnt=3\n"
     ]
    },
    {
     "name": "stderr",
     "output_type": "stream",
     "text": [
      "C:\\Users\\yizh9\\Anaconda3\\envs\\flatland-rl\\lib\\site-packages\\flatland\\envs\\schedule_generators.py:198: UserWarning: reset position for agent[1]: (3, 12) -> (11, 4)\n",
      "  \"reset position for agent[{}]: {} -> {}\".format(i, agents_position[i], agents_target[i]))\n",
      "C:\\Users\\yizh9\\Anaconda3\\envs\\flatland-rl\\lib\\site-packages\\flatland\\envs\\schedule_generators.py:198: UserWarning: reset position for agent[4]: (3, 1) -> (3, 10)\n",
      "  \"reset position for agent[{}]: {} -> {}\".format(i, agents_position[i], agents_target[i]))\n"
     ]
    }
   ],
   "source": [
    "env = RailEnv(  width=15,\n",
    "                height=15,\n",
    "                rail_generator=complex_rail_generator(\n",
    "                                    nr_start_goal=10, # number of start and goal locations\n",
    "                                    nr_extra=10,      # number of extra railway elements added\n",
    "                                                      # the number of alternative paths of each agents can be modified by changing above two parameters \n",
    "                                    min_dist=10,\n",
    "                                    max_dist=99999,\n",
    "                                    seed=0),\n",
    "                number_of_agents=5)"
   ]
  },
  {
   "cell_type": "code",
   "execution_count": 11,
   "metadata": {},
   "outputs": [
    {
     "ename": "NameError",
     "evalue": "name 'RandomAgent' is not defined",
     "output_type": "error",
     "traceback": [
      "\u001b[1;31m---------------------------------------------------------------------------\u001b[0m",
      "\u001b[1;31mNameError\u001b[0m                                 Traceback (most recent call last)",
      "\u001b[1;32m<ipython-input-11-dc15d565910c>\u001b[0m in \u001b[0;36m<module>\u001b[1;34m\u001b[0m\n\u001b[1;32m----> 1\u001b[1;33m \u001b[0magent\u001b[0m \u001b[1;33m=\u001b[0m \u001b[0mRandomAgent\u001b[0m\u001b[1;33m(\u001b[0m\u001b[0menv\u001b[0m\u001b[1;33m.\u001b[0m\u001b[0maction_space\u001b[0m\u001b[1;33m,\u001b[0m \u001b[0menv\u001b[0m\u001b[1;33m.\u001b[0m\u001b[0mobservation_space\u001b[0m\u001b[1;33m)\u001b[0m\u001b[1;33m\u001b[0m\u001b[1;33m\u001b[0m\u001b[0m\n\u001b[0m",
      "\u001b[1;31mNameError\u001b[0m: name 'RandomAgent' is not defined"
     ]
    }
   ],
   "source": [
    "# Don't have RLlib installed, but RandomAgent takes (Config, env_creator) as init parameters\n",
    "\n",
    "agent = RandomAgent(env.action_space, env.observation_space)\n"
   ]
  },
  {
   "cell_type": "markdown",
   "metadata": {},
   "source": [
    "# Customizing Observations and Level Generators"
   ]
  },
  {
   "cell_type": "code",
   "execution_count": null,
   "metadata": {},
   "outputs": [],
   "source": []
  }
 ],
 "metadata": {
  "kernelspec": {
   "display_name": "Python 3",
   "language": "python",
   "name": "python3"
  },
  "language_info": {
   "codemirror_mode": {
    "name": "ipython",
    "version": 3
   },
   "file_extension": ".py",
   "mimetype": "text/x-python",
   "name": "python",
   "nbconvert_exporter": "python",
   "pygments_lexer": "ipython3",
   "version": "3.6.9"
  }
 },
 "nbformat": 4,
 "nbformat_minor": 2
}
